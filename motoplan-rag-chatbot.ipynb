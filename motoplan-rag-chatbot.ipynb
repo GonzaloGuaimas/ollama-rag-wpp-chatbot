{
 "cells": [
  {
   "cell_type": "code",
   "execution_count": 6,
   "metadata": {},
   "outputs": [],
   "source": [
    "install_packages = True"
   ]
  },
  {
   "cell_type": "code",
   "execution_count": 43,
   "metadata": {},
   "outputs": [
    {
     "name": "stdout",
     "output_type": "stream",
     "text": [
      "Defaulting to user installation because normal site-packages is not writeable\n",
      "Requirement already satisfied: huggingface-hub in /Users/gonzaloguaimas/Library/Python/3.9/lib/python/site-packages (0.26.2)\n",
      "Requirement already satisfied: filelock in /Users/gonzaloguaimas/Library/Python/3.9/lib/python/site-packages (from huggingface-hub) (3.16.1)\n",
      "Requirement already satisfied: requests in /Users/gonzaloguaimas/Library/Python/3.9/lib/python/site-packages (from huggingface-hub) (2.32.3)\n",
      "Requirement already satisfied: pyyaml>=5.1 in /Users/gonzaloguaimas/Library/Python/3.9/lib/python/site-packages (from huggingface-hub) (6.0.2)\n",
      "Requirement already satisfied: tqdm>=4.42.1 in /Users/gonzaloguaimas/Library/Python/3.9/lib/python/site-packages (from huggingface-hub) (4.66.6)\n",
      "Requirement already satisfied: packaging>=20.9 in /Users/gonzaloguaimas/Library/Python/3.9/lib/python/site-packages (from huggingface-hub) (24.1)\n",
      "Requirement already satisfied: fsspec>=2023.5.0 in /Users/gonzaloguaimas/Library/Python/3.9/lib/python/site-packages (from huggingface-hub) (2024.10.0)\n",
      "Requirement already satisfied: typing-extensions>=3.7.4.3 in /Users/gonzaloguaimas/Library/Python/3.9/lib/python/site-packages (from huggingface-hub) (4.12.2)\n",
      "Requirement already satisfied: urllib3<3,>=1.21.1 in /Users/gonzaloguaimas/Library/Python/3.9/lib/python/site-packages (from requests->huggingface-hub) (2.2.3)\n",
      "Requirement already satisfied: certifi>=2017.4.17 in /Users/gonzaloguaimas/Library/Python/3.9/lib/python/site-packages (from requests->huggingface-hub) (2024.8.30)\n",
      "Requirement already satisfied: charset-normalizer<4,>=2 in /Users/gonzaloguaimas/Library/Python/3.9/lib/python/site-packages (from requests->huggingface-hub) (3.4.0)\n",
      "Requirement already satisfied: idna<4,>=2.5 in /Users/gonzaloguaimas/Library/Python/3.9/lib/python/site-packages (from requests->huggingface-hub) (3.10)\n",
      "\u001b[33mWARNING: You are using pip version 21.2.4; however, version 24.3.1 is available.\n",
      "You should consider upgrading via the '/Library/Developer/CommandLineTools/usr/bin/python3 -m pip install --upgrade pip' command.\u001b[0m\n",
      "Note: you may need to restart the kernel to use updated packages.\n"
     ]
    }
   ],
   "source": [
    "%pip install huggingface-hub"
   ]
  },
  {
   "cell_type": "code",
   "execution_count": 1,
   "metadata": {},
   "outputs": [
    {
     "name": "stderr",
     "output_type": "stream",
     "text": [
      "/Users/gonzaloguaimas/Library/Python/3.9/lib/python/site-packages/urllib3/__init__.py:35: NotOpenSSLWarning: urllib3 v2 only supports OpenSSL 1.1.1+, currently the 'ssl' module is compiled with 'LibreSSL 2.8.3'. See: https://github.com/urllib3/urllib3/issues/3020\n",
      "  warnings.warn(\n",
      "/Users/gonzaloguaimas/Library/Python/3.9/lib/python/site-packages/sentence_transformers/cross_encoder/CrossEncoder.py:13: TqdmWarning: IProgress not found. Please update jupyter and ipywidgets. See https://ipywidgets.readthedocs.io/en/stable/user_install.html\n",
      "  from tqdm.autonotebook import tqdm, trange\n"
     ]
    }
   ],
   "source": [
    "from langchain.document_loaders import DirectoryLoader, CSVLoader, UnstructuredWordDocumentLoader, PyPDFLoader\n",
    "from langchain.text_splitter import RecursiveCharacterTextSplitter\n",
    "from langchain_community.llms import Ollama\n",
    "from langchain.vectorstores import FAISS\n",
    "from langchain.prompts import ChatPromptTemplate, MessagesPlaceholder\n",
    "from langchain_core.runnables.history import RunnableWithMessageHistory\n",
    "from langchain_community.chat_message_histories import ChatMessageHistory\n",
    "from langchain.chains import create_retrieval_chain\n",
    "from langchain.chains.combine_documents import create_stuff_documents_chain\n",
    "from sentence_transformers import SentenceTransformer, util\n",
    "#from htmlTemplate import css, bot_template, user_template\n",
    "from langchain_core.chat_history import BaseChatMessageHistory\n",
    "from langchain.chains import create_history_aware_retriever\n",
    "from langchain_huggingface import HuggingFaceEmbeddings"
   ]
  },
  {
   "cell_type": "code",
   "execution_count": 3,
   "metadata": {},
   "outputs": [],
   "source": [
    "file_directory=\"/Users/gonzaloguaimas/Documents/code/AI/motoplan-rag/data\"\n",
    "embedding_model='sentence-transformers/all-MiniLM-L6-v2'\n",
    "llm_model =\"llama3.2\""
   ]
  },
  {
   "cell_type": "code",
   "execution_count": 4,
   "metadata": {},
   "outputs": [],
   "source": [
    "def prepare_and_split_docs(directory):\n",
    "    # Load the documents\n",
    "    loaders = [\n",
    "        DirectoryLoader(directory, glob=\"**/*.pdf\",show_progress=True, loader_cls=PyPDFLoader),\n",
    "        DirectoryLoader(directory, glob=\"**/*.docx\",show_progress=True),\n",
    "        DirectoryLoader(directory, glob=\"**/*.csv\",loader_cls=CSVLoader)\n",
    "    ]\n",
    "\n",
    "\n",
    "    documents=[]\n",
    "    for loader in loaders:\n",
    "        data =loader.load()\n",
    "        documents.extend(data)\n",
    "\n",
    "    # Initialize a text splitter\n",
    "    splitter = RecursiveCharacterTextSplitter.from_tiktoken_encoder(\n",
    "        chunk_size=512,  # Use the smaller chunk size here to avoid repeating splitting logic\n",
    "        chunk_overlap=256,\n",
    "        disallowed_special=(),\n",
    "        separators=[\"\\n\\n\", \"\\n\", \" \"]\n",
    "    )\n",
    "\n",
    "    # Split the documents and keep metadata\n",
    "    split_docs = splitter.split_documents(documents)\n",
    "\n",
    "    print(f\"Documents are split into {len(split_docs)} passages\")\n",
    "    return split_docs"
   ]
  },
  {
   "cell_type": "code",
   "execution_count": 6,
   "metadata": {},
   "outputs": [],
   "source": [
    "embeddings = HuggingFaceEmbeddings(model_name=embedding_model)\n",
    "def ingest_into_vectordb(split_docs):\n",
    "    db = FAISS.from_documents(split_docs, embeddings)\n",
    "\n",
    "    DB_FAISS_PATH = 'vectorstore/db_faiss'\n",
    "    db.save_local(DB_FAISS_PATH)\n",
    "    print(\"Documents are inserted into FAISS vectorstore\")\n",
    "    return db"
   ]
  },
  {
   "cell_type": "code",
   "execution_count": 37,
   "metadata": {},
   "outputs": [],
   "source": [
    "def get_conversation_chain(retriever):\n",
    "    llm = Ollama(model=llm_model)\n",
    "    contextualize_q_system_prompt = (\n",
    "        \"Teniendo la última conversación en cuenta, contextualizá la pregunta del usuario.\"\n",
    "        \"Si el usuario necesita una respuesta específica, dá la respuesta en base a los documentos con lo que te entrené. Si te dice: Buen día, ¿cómo estás?, respondé: Buen día, estoy bien, gracias. ¿En qué puedo ayudarte?, es decir respuestas cortas y concisas.\"\n",
    "        \"No hagás muchas preguntas, siempre tratá de recomendar que valla a una oficina en salta o tucumán o que diga en qué horario se lo puede llamar\"\n",
    "    )\n",
    "\n",
    "\n",
    "    contextualize_q_prompt = ChatPromptTemplate.from_messages(\n",
    "        [\n",
    "            (\"system\", contextualize_q_system_prompt),\n",
    "            MessagesPlaceholder(\"chat_history\"),\n",
    "            (\"human\", \"{input}\"),\n",
    "        ]\n",
    "    )\n",
    "    history_aware_retriever = create_history_aware_retriever(\n",
    "        llm, retriever, contextualize_q_prompt\n",
    "    )\n",
    "\n",
    "\n",
    "    ### Answer question ###\n",
    "    system_prompt = (\n",
    "        \"Sos un asesor comercial de la empresa Motoplan18, tenés que responder de manera tranquila y humana a cada respuesta que te hagan. \"\n",
    "        \"Tratá de usar el lenguaje argentino pero no vulgar. Respondé en 1 sóla oración con no más de 15 palabras. \"\n",
    "        \"Contestá de manera natural, no te sobreextiendas ni hagas muchas preguntas. No hables en neutro, hablá como argentino. \"\n",
    "        \"{context}\"\n",
    "    )\n",
    "\n",
    "    qa_prompt = ChatPromptTemplate.from_messages(\n",
    "        [\n",
    "            (\"system\", system_prompt),\n",
    "            MessagesPlaceholder(\"chat_history\"),\n",
    "            (\"human\", \"{input}\"),\n",
    "        ]\n",
    "    )\n",
    "    question_answer_chain = create_stuff_documents_chain(llm, qa_prompt)\n",
    "\n",
    "    rag_chain = create_retrieval_chain(history_aware_retriever, question_answer_chain)\n",
    "\n",
    "\n",
    "    ### Statefully manage chat history ###\n",
    "    store = {}\n",
    "\n",
    "\n",
    "    def get_session_history(session_id: str) -> BaseChatMessageHistory:\n",
    "        if session_id not in store:\n",
    "            store[session_id] = ChatMessageHistory()\n",
    "        return store[session_id]\n",
    "\n",
    "\n",
    "    conversational_rag_chain = RunnableWithMessageHistory(\n",
    "        rag_chain,\n",
    "        get_session_history,\n",
    "        input_messages_key=\"input\",\n",
    "        history_messages_key=\"chat_history\",\n",
    "        output_messages_key=\"answer\",\n",
    "    )\n",
    "    print(\"Conversational chain created\")\n",
    "    return conversational_rag_chain\n"
   ]
  },
  {
   "cell_type": "code",
   "execution_count": 8,
   "metadata": {},
   "outputs": [],
   "source": [
    "def calculate_similarity_score(answer: str, context_docs: list) -> float:\n",
    "       \n",
    "    context_docs = [doc.page_content for doc in context_docs]\n",
    "    \n",
    "    # Encode the answer and context documents\n",
    "    answer_embedding = embeddings.embed_query(answer)\n",
    "    context_embeddings = embeddings.embed_documents(context_docs)\n",
    "    \n",
    "    # Calculate cosine similarities\n",
    "    similarities = util.pytorch_cos_sim(answer_embedding, context_embeddings)\n",
    "    \n",
    "    # Return the maximum similarity score from the context documents\n",
    "    max_score = similarities.max().item() \n",
    "    return max_score"
   ]
  },
  {
   "cell_type": "code",
   "execution_count": 40,
   "metadata": {},
   "outputs": [
    {
     "name": "stderr",
     "output_type": "stream",
     "text": [
      "Ignoring wrong pointing object 6 0 (offset 0)\n",
      "Ignoring wrong pointing object 6 0 (offset 0)\n",
      "100%|██████████| 2/2 [00:00<00:00, 37.30it/s]\n",
      "0it [00:00, ?it/s]"
     ]
    },
    {
     "name": "stdout",
     "output_type": "stream",
     "text": [
      "Documents are split into 9 passages\n",
      "Documents are inserted into FAISS vectorstore\n",
      "Conversational chain created\n"
     ]
    },
    {
     "name": "stderr",
     "output_type": "stream",
     "text": [
      "\n"
     ]
    }
   ],
   "source": [
    "split_docs=prepare_and_split_docs(file_directory)\n",
    "vector_db= ingest_into_vectordb(split_docs)\n",
    "retriever =vector_db.as_retriever()\n",
    "conversational_rag_chain=get_conversation_chain(retriever)"
   ]
  },
  {
   "cell_type": "code",
   "execution_count": 43,
   "metadata": {},
   "outputs": [],
   "source": [
    "user_question=\"No tengo recibo de sueldo y quiero una yamaha\""
   ]
  },
  {
   "cell_type": "code",
   "execution_count": 44,
   "metadata": {},
   "outputs": [
    {
     "name": "stdout",
     "output_type": "stream",
     "text": [
      "Amigo, para sacar una Yamaha en cuotas fijas, necesitás saber si tienes DNI sin problemas con la firma, o tenemos un plan nacional 110 para ti. ¿Qué pasa?\n"
     ]
    }
   ],
   "source": [
    "qa1=conversational_rag_chain.invoke(\n",
    "    {\"input\": user_question},\n",
    "    config={\n",
    "        \"configurable\": {\"session_id\": \"abc123\"}\n",
    "    }\n",
    ")\n",
    "print(qa1[\"answer\"])"
   ]
  },
  {
   "cell_type": "code",
   "execution_count": 35,
   "metadata": {},
   "outputs": [
    {
     "name": "stdout",
     "output_type": "stream",
     "text": [
      "Conversation Chain\n",
      "{'input': 'gracias', 'chat_history': [HumanMessage(content='Hola como puedo hacer para tener una moto soy de salta capital', additional_kwargs={}, response_metadata={}), AIMessage(content='¡Hola! Puedes contactarnos en nuestra sucursal de Salta Capital, en Pelegrinni 664, o en Joaquín V. González en Hipolito Yrigoyen 123, y hablaremos de los planes de financiamiento que podemos ofrecerte.', additional_kwargs={}, response_metadata={}), HumanMessage(content='a la tarde hasata quihora estan?', additional_kwargs={}, response_metadata={}), AIMessage(content='Estamos abiertos del martes al viernes de 10am a 7pm, así que si necesitas hablar con nosotros a la tarde, puedes venir a nuestra sucursal en Pelegrinni 664.', additional_kwargs={}, response_metadata={}), HumanMessage(content='información para la moto', additional_kwargs={}, response_metadata={}), AIMessage(content='¡Excelente! Entonces necesitamos saber si tiene DNI sin la firma afectada. ¿Puede mostrarnos su documento de identidad?', additional_kwargs={}, response_metadata={}), HumanMessage(content='Hola como es el tema de las cuota y donde puedo ir a ver soy de jujuy', additional_kwargs={}, response_metadata={}), AIMessage(content='¡Hola! Las cuotas son fijas en pesos, dependiendo del monto de la moto que desees comprar. Puedes ir a nuestra sucursal de Joaquín V. González en Hipolito Yrigoyen 123 para saber más sobre los detalles y planificar tu financiamiento.', additional_kwargs={}, response_metadata={}), HumanMessage(content='mas información me interesa ando buscando una moto yamaha xtz 250 o algo x ese estilo', additional_kwargs={}, response_metadata={}), AIMessage(content='¡Hola! Tenés varias opciones de motos Yamaha que podríamos ofrecerte, como la FZ o el XTZ 250. ¿Queremos saber si tenés DNI sin la firma afectada para poder discutir un plan de financiamiento?', additional_kwargs={}, response_metadata={}), HumanMessage(content='soy de tucuman info y dirección asi me llego', additional_kwargs={}, response_metadata={}), AIMessage(content='¡Hola! Estamos en Pelegrinni 664, Salta Capital, y estamos abiertos del martes al viernes de 10am a 7pm. ¿Puedes venir a vernos para hablar sobre tus opciones de financiamiento?', additional_kwargs={}, response_metadata={}), HumanMessage(content='soy de tucuman info y dirección asi me llego', additional_kwargs={}, response_metadata={}), AIMessage(content='¡Hola! Gracias por contactar con Motoplan, estamos aquí para ayudarte a encontrar una moto que se adapte a tus necesidades. ¿Podrías decirme un poco más sobre ti mismo y lo que buscas? ¿Qué tipo de moto estás interesado en comprar?', additional_kwargs={}, response_metadata={}), HumanMessage(content='hola como puedo aser soy de saladas corrientes', additional_kwargs={}, response_metadata={}), AIMessage(content='¡Hola! Para que podamos ayudarte, necesitamos saber si tienes DNI sin la firma afectada. Si es así, podemos discutir un plan de financiamiento para tu moto Yamaha. ¿Podrías mostrarnos tu documento de identidad?', additional_kwargs={}, response_metadata={}), HumanMessage(content='como es el tema d la yamaha250? cuotas entrega', additional_kwargs={}, response_metadata={}), AIMessage(content='¡Hola! La Yamaha 250 es una excelente opción, tenemos planes de financiamiento para esta moto, dependiendo de tus necesidades y situación económica. ¿Podrías mostrarnos tu DNI sin firma afectada?', additional_kwargs={}, response_metadata={})], 'context': [Document(metadata={'source': '/Users/gonzaloguaimas/Documents/code/AI/motoplan-rag/data/motoplan_data.pdf', 'page': 0}, page_content='Motoplan es una empresa salteña que brinda su servicios de planes de ﬁnanciamiento a todas esas personas que no tienen la capacidad de poder comprar su moto de contado o se le diﬁculta acceder a un crédito ya sea por tener la ﬁrma afectada, o no tener recibo de sueldo, ni garante ni tarjeta de crédito para comprar la moto en una consecionaria. Brinda la posibilidad que todos puedan acceder a su moto 0km en cuotas ﬁjas en pesos, hace más de 10 años estamos en el mercado y entregamos más de 7000 motos en todo el norte argentino.  Contamos con varias sucursales Salta, Capital (casa central): pelegrinni 664 Salta, jv gonzalez: hiploto Yrigoyen 243 Tucuman, San miguel de tucuman: marco avellaneda 321  Podemos recibir tu anticipo, si es que tenes sino te ﬁnanciamos de otra forma.'), Document(metadata={'source': '/Users/gonzaloguaimas/Documents/code/AI/motoplan-rag/data/motoplan_data_2.pdf', 'page': 0}, page_content='Motoplan es una empresa salteña que brinda su servicios de planes de ﬁnanciamiento a todas esas personas que no tienen la capacidad de poder comprar su moto de contado o se le diﬁculta acceder a un crédito ya sea por tener la ﬁrma afectada, o no tener recibo de sueldo, ni garante ni tarjeta de crédito para comprar la moto en una consecionaria. Brinda la posibilidad que todos puedan acceder a su moto 0km en cuotas ﬁjas en pesos, hace más de 10 años estamos en el mercado y entregamos más de 7000 motos en todo el norte argentino.  Contamos con varias sucursales Salta, Capital (casa central): pelegrinni 664 Salta, jv gonzalez: hiploto Yrigoyen 243 Tucuman, San miguel de tucuman: marco avellaneda 321  Podemos recibir tu anticipo, si es que tenes sino te ﬁnanciamos de otra forma.   Información para la moto: Necesitamos saber si el cliente tiene dni, recibo de sueldo, algún anticipo.  Si tiene DNI sin la ﬁrma afectada: Entonces puede acceder al nuevo plan nacional 110 para retirar una moto 0km en cuotas ﬁjas en pesos sólo con dni. Sí tiene que dar un mínimo anticipo de 500.000 pesos.  Como son las cuotas?: Las cuotas son ﬁjas y en pesos, depende el monto de la cuota si entregás o no un anticipo  Cuándo retiro mi moto?: Depende del plan al que accedas, podes retirarlo desde la primer cuota si es que tenes un anticipo, o en cuota 3 con mínimo anticipo, en cuota 6 cumpliendo'), Document(metadata={'source': '/Users/gonzaloguaimas/Documents/code/AI/motoplan-rag/data/motoplan_data_2.pdf', 'page': 1}, page_content='Tienen una moto en stock? No somos una concecionaria, somos una empresa que brinda créditos personales para comprar tu moto 0km. La moto la retirás en la oﬁcina. Somos un medio por el cual accedes a la compra de tu 0km  Con recibo de seudlo puedo sacar una moto? Sí claro que podes sacar una moto, un recibo de sueldo te da más posibilidades y cuotas más bajas.  Precio de la moto? Nosotros No manejamos precios de contado. Vendemos el plan de ﬁnanciación, si queres buscar el precio de una moto te recomendemos que consultes en una consecionaria. Si no te alcanza el dinero para comprartela de contado, podrías contarnos qué moto querés y si tenes o no recibo de sueldo y en base a eso te podemos armar un plan de ﬁnanciación.'), Document(metadata={'source': '/Users/gonzaloguaimas/Documents/code/AI/motoplan-rag/data/data.csv', 'row': 1}, page_content='id: 2\\nmodel: YamahaFZ\\ncuota: 2023\\ndni: 180000\\nrecibo: no\\nnum_cuotas: si\\nNone: 18')], 'answer': '¡Bienvenido a Motoplan! Estamos aquí para ayudarte a encontrar una moto que se adapte a tus necesidades. Necesitamos saber un poco más sobre ti y qué tipo de moto estás interesado en comprar. ¿Podrías decirme un poco más sobre ti mismo?'}\n"
     ]
    }
   ],
   "source": [
    "print(\"Conversation Chain\")\n",
    "print(qa1)"
   ]
  },
  {
   "cell_type": "code",
   "execution_count": null,
   "metadata": {},
   "outputs": [],
   "source": []
  },
  {
   "cell_type": "code",
   "execution_count": 36,
   "metadata": {},
   "outputs": [
    {
     "name": "stdout",
     "output_type": "stream",
     "text": [
      "Context Similarity Score: 0.63\n"
     ]
    }
   ],
   "source": [
    "answer = qa1[\"answer\"]\n",
    "context_docs = qa1[\"context\"]\n",
    "similarity_score = calculate_similarity_score(answer, context_docs)\n",
    "\n",
    "print(\"Context Similarity Score:\", round(similarity_score,2))"
   ]
  },
  {
   "cell_type": "code",
   "execution_count": null,
   "metadata": {},
   "outputs": [],
   "source": []
  }
 ],
 "metadata": {
  "kernelspec": {
   "display_name": "Python 3",
   "language": "python",
   "name": "python3"
  },
  "language_info": {
   "codemirror_mode": {
    "name": "ipython",
    "version": 3
   },
   "file_extension": ".py",
   "mimetype": "text/x-python",
   "name": "python",
   "nbconvert_exporter": "python",
   "pygments_lexer": "ipython3",
   "version": "3.9.6"
  }
 },
 "nbformat": 4,
 "nbformat_minor": 2
}
